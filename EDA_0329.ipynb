{
  "nbformat": 4,
  "nbformat_minor": 0,
  "metadata": {
    "colab": {
      "provenance": []
    },
    "kernelspec": {
      "name": "python3",
      "display_name": "Python 3"
    },
    "language_info": {
      "name": "python"
    }
  },
  "cells": [
    {
      "cell_type": "code",
      "execution_count": 3,
      "metadata": {
        "id": "aMqP-EBjARJg",
        "colab": {
          "base_uri": "https://localhost:8080/"
        },
        "outputId": "62824ba2-01be-4e69-c862-6d14d1f04a24"
      },
      "outputs": [
        {
          "output_type": "stream",
          "name": "stdout",
          "text": [
            "data  Untitled1.ipynb\n"
          ]
        }
      ],
      "source": [
        "!ls"
      ]
    },
    {
      "cell_type": "code",
      "source": [
        "%cd /content/drive/MyDrive/코드/datathon"
      ],
      "metadata": {
        "colab": {
          "base_uri": "https://localhost:8080/"
        },
        "id": "bJ0Gv2wUAyNh",
        "outputId": "c0491e24-23ed-48a9-bfe8-60f06fdcfacb"
      },
      "execution_count": 2,
      "outputs": [
        {
          "output_type": "stream",
          "name": "stdout",
          "text": [
            "/content/drive/MyDrive/코드/datathon\n"
          ]
        }
      ]
    },
    {
      "cell_type": "code",
      "source": [
        "import pandas as pd\n",
        "import numpy as np\n",
        "import sys\n",
        "from itertools import combinations, groupby\n",
        "from collections import Counter\n",
        "from IPython.display import display\n",
        "import matplotlib.pyplot as plt\n",
        "import seaborn as sns\n",
        "import warnings \n",
        "warnings.filterwarnings(action='ignore')\n",
        "%matplotlib inline"
      ],
      "metadata": {
        "id": "miskctaEAyPU"
      },
      "execution_count": 4,
      "outputs": []
    },
    {
      "cell_type": "code",
      "source": [
        "aisles = pd.read_csv('./data/aisles.csv')  #(134, 2)\n",
        "departments = pd.read_csv('./data/departments.csv') #(21, 2)\n",
        "products = pd.read_csv('./data/products.csv') # (49688, 4)\n",
        "order_products_prior = pd.read_csv('./data/order_products__prior.csv') #(32434489, 4)\n",
        "order_products_train = pd.read_csv('./data/order_products__train.csv') #(1384617, 4)\n",
        "orders = pd.read_csv('./data/orders.csv') #(3421083, 7)"
      ],
      "metadata": {
        "id": "gSaS1ehNAyUV"
      },
      "execution_count": 5,
      "outputs": []
    },
    {
      "cell_type": "code",
      "source": [
        "order_products_prior = order_products_prior.set_index('order_id')['product_id'].rename('item_id')\n",
        "display(order_products_prior.head(10))\n",
        "type(order_products_prior)"
      ],
      "metadata": {
        "colab": {
          "base_uri": "https://localhost:8080/",
          "height": 243
        },
        "id": "xEDbFks5AyWT",
        "outputId": "32227462-c014-4e5e-95ca-95b7b7674a0b"
      },
      "execution_count": 6,
      "outputs": [
        {
          "output_type": "display_data",
          "data": {
            "text/plain": [
              "order_id\n",
              "2    33120\n",
              "2    28985\n",
              "2     9327\n",
              "2    45918\n",
              "2    30035\n",
              "2    17794\n",
              "2    40141\n",
              "2     1819\n",
              "2    43668\n",
              "3    33754\n",
              "Name: item_id, dtype: int64"
            ]
          },
          "metadata": {}
        },
        {
          "output_type": "execute_result",
          "data": {
            "text/plain": [
              "pandas.core.series.Series"
            ]
          },
          "metadata": {},
          "execution_count": 6
        }
      ]
    },
    {
      "cell_type": "code",
      "source": [
        "# Returns frequency counts for items and item pairs\n",
        "def freq(iterable):\n",
        "    if type(iterable) == pd.core.series.Series:\n",
        "        return iterable.value_counts().rename(\"freq\")\n",
        "    else: \n",
        "        return pd.Series(Counter(iterable)).rename(\"freq\")\n",
        "\n",
        "    \n",
        "# Returns number of unique orders\n",
        "def order_count(order_item):\n",
        "    return len(set(order_item.index))\n",
        "\n",
        "\n",
        "# Returns generator that yields item pairs, one at a time\n",
        "def get_item_pairs(order_item):\n",
        "    order_item = order_item.reset_index().values\n",
        "    for order_id, order_object in groupby(order_item, lambda x: x[0]):\n",
        "        item_list = [item[1] for item in order_object]\n",
        "              \n",
        "        for item_pair in combinations(item_list, 2):\n",
        "            yield item_pair\n",
        "            \n",
        "\n",
        "# Returns frequency and support associated with item\n",
        "def merge_item_stats(item_pairs, item_stats):\n",
        "    return (item_pairs\n",
        "                .merge(item_stats.rename(columns={'freq': 'freqA', 'support': 'supportA'}), left_on='item_A', right_index=True)\n",
        "                .merge(item_stats.rename(columns={'freq': 'freqB', 'support': 'supportB'}), left_on='item_B', right_index=True))\n",
        "\n",
        "\n",
        "# Returns name associated with item\n",
        "def merge_item_name(rules, item_name):\n",
        "    columns = ['itemA','itemB','freqAB','supportAB','freqA','supportA','freqB','supportB', \n",
        "               'confidenceAtoB','confidenceBtoA','lift']\n",
        "    rules = (rules\n",
        "                .merge(item_name.rename(columns={'item_name': 'itemA'}), left_on='item_A', right_on='item_id')\n",
        "                .merge(item_name.rename(columns={'item_name': 'itemB'}), left_on='item_B', right_on='item_id'))\n",
        "    return rules[columns]              "
      ],
      "metadata": {
        "id": "2m3zr1ERAyX3"
      },
      "execution_count": 7,
      "outputs": []
    },
    {
      "cell_type": "code",
      "source": [
        "def association_rules(order_item, min_support):\n",
        "\n",
        "    print(\"Starting order_item: {:22d}\".format(len(order_item)))\n",
        "\n",
        "\n",
        "    # Calculate item frequency and support\n",
        "    item_stats             = freq(order_item).to_frame(\"freq\")\n",
        "    item_stats['support']  = item_stats['freq'] / order_count(order_item) * 100\n",
        "\n",
        "\n",
        "    # Filter from order_item items below min support \n",
        "    qualifying_items       = item_stats[item_stats['support'] >= min_support].index\n",
        "    order_item             = order_item[order_item.isin(qualifying_items)]\n",
        "\n",
        "    print(\"Items with support >= {}: {:15d}\".format(min_support, len(qualifying_items)))\n",
        "    print(\"Remaining order_item: {:21d}\".format(len(order_item)))\n",
        "\n",
        "\n",
        "    # Filter from order_item orders with less than 2 items\n",
        "    order_size             = freq(order_item.index)\n",
        "    qualifying_orders      = order_size[order_size >= 2].index\n",
        "    order_item             = order_item[order_item.index.isin(qualifying_orders)]\n",
        "\n",
        "    print(\"Remaining orders with 2+ items: {:11d}\".format(len(qualifying_orders)))\n",
        "    print(\"Remaining order_item: {:21d}\".format(len(order_item)))\n",
        "\n",
        "\n",
        "    # Recalculate item frequency and support\n",
        "    item_stats             = freq(order_item).to_frame(\"freq\")\n",
        "    item_stats['support']  = item_stats['freq'] / order_count(order_item) * 100\n",
        "\n",
        "\n",
        "    # Get item pairs generator\n",
        "    item_pair_gen          = get_item_pairs(order_item)\n",
        "\n",
        "\n",
        "    # Calculate item pair frequency and support\n",
        "    item_pairs              = freq(item_pair_gen).to_frame(\"freqAB\")\n",
        "    item_pairs['supportAB'] = item_pairs['freqAB'] / len(qualifying_orders) * 100\n",
        "\n",
        "    print(\"Item pairs: {:31d}\".format(len(item_pairs)))\n",
        "\n",
        "\n",
        "    # Filter from item_pairs those below min support\n",
        "    item_pairs              = item_pairs[item_pairs['supportAB'] >= min_support]\n",
        "\n",
        "    print(\"Item pairs with support >= {}: {:10d}\\n\".format(min_support, len(item_pairs)))\n",
        "\n",
        "\n",
        "    # Create table of association rules and compute relevant metrics\n",
        "    item_pairs = item_pairs.reset_index().rename(columns={'level_0': 'item_A', 'level_1': 'item_B'})\n",
        "    item_pairs = merge_item_stats(item_pairs, item_stats)\n",
        "    \n",
        "    item_pairs['confidenceAtoB'] = item_pairs['supportAB'] / item_pairs['supportA']\n",
        "    item_pairs['confidenceBtoA'] = item_pairs['supportAB'] / item_pairs['supportB']\n",
        "    item_pairs['lift']           = item_pairs['supportAB'] / (item_pairs['supportA'] * item_pairs['supportB'])\n",
        "    \n",
        "    \n",
        "    # Return association rules sorted by lift in descending order\n",
        "    return item_pairs.sort_values('lift', ascending=False)"
      ],
      "metadata": {
        "id": "izfda1QoAyZL"
      },
      "execution_count": 8,
      "outputs": []
    },
    {
      "cell_type": "code",
      "source": [
        "rules = association_rules(order_products_prior, 0.01) "
      ],
      "metadata": {
        "colab": {
          "base_uri": "https://localhost:8080/"
        },
        "id": "1hUBTesLBRh6",
        "outputId": "1440b7ee-ac9a-43f6-900c-ca16eb39585e"
      },
      "execution_count": 9,
      "outputs": [
        {
          "output_type": "stream",
          "name": "stdout",
          "text": [
            "Starting order_item:               32434489\n",
            "Items with support >= 0.01:           10906\n",
            "Remaining order_item:              29843570\n",
            "Remaining orders with 2+ items:     3013325\n",
            "Remaining order_item:              29662716\n",
            "Item pairs:                        30622410\n",
            "Item pairs with support >= 0.01:      48751\n",
            "\n"
          ]
        }
      ]
    },
    {
      "cell_type": "code",
      "source": [
        "# Replace item ID with item name and display association rules\n",
        "products = products.rename(columns={'product_id':'item_id', 'product_name':'item_name'})\n",
        "rules_final = merge_item_name(rules, products).sort_values('lift', ascending=False)\n",
        "display(rules_final)"
      ],
      "metadata": {
        "colab": {
          "base_uri": "https://localhost:8080/",
          "height": 956
        },
        "id": "uF1oqbyNAybC",
        "outputId": "b4192176-4fe1-4d03-e581-c415f9c8fbb3"
      },
      "execution_count": 10,
      "outputs": [
        {
          "output_type": "display_data",
          "data": {
            "text/plain": [
              "                                                  itemA  \\\n",
              "0      Organic Strawberry Chia Lowfat 2% Cottage Cheese   \n",
              "1                   Grain Free Chicken Formula Cat Food   \n",
              "3             Organic Fruit Yogurt Smoothie Mixed Berry   \n",
              "9     Nonfat Strawberry With Fruit On The Bottom Gre...   \n",
              "10       Organic Grapefruit Ginger Sparkling Yerba Mate   \n",
              "...                                                 ...   \n",
              "7271                               Organic Strawberries   \n",
              "6763                               Organic Hass Avocado   \n",
              "4387                                    Organic Avocado   \n",
              "2596                                             Banana   \n",
              "670                              Bag of Organic Bananas   \n",
              "\n",
              "                                           itemB  freqAB  supportAB   freqA  \\\n",
              "0     Organic Cottage Cheese Blueberry Acai Chia     306   0.010155    1163   \n",
              "1             Grain Free Turkey Formula Cat Food     318   0.010553    1809   \n",
              "3          Apple Blueberry Fruit Yogurt Smoothie     349   0.011582    1518   \n",
              "9       0% Greek, Blueberry on the Bottom Yogurt     409   0.013573    1666   \n",
              "10    Cranberry Pomegranate Sparkling Yerba Mate     351   0.011648    1731   \n",
              "...                                          ...     ...        ...     ...   \n",
              "7271                                Strawberries     640   0.021239  263416   \n",
              "6763                             Organic Avocado     464   0.015398  212785   \n",
              "4387                        Organic Hass Avocado     443   0.014701  176241   \n",
              "2596                      Bag of Organic Bananas     654   0.021704  470096   \n",
              "670                                       Banana     522   0.017323  376367   \n",
              "\n",
              "       supportA   freqB   supportB  confidenceAtoB  confidenceBtoA      lift  \n",
              "0      0.038595     839   0.027843        0.263113        0.364720  9.449868  \n",
              "1      0.060033     879   0.029170        0.175788        0.361775  6.026229  \n",
              "3      0.050376    1249   0.041449        0.229908        0.279424  5.546732  \n",
              "9      0.055288    1391   0.046162        0.245498        0.294033  5.318230  \n",
              "10     0.057445    1149   0.038131        0.202773        0.305483  5.317849  \n",
              "...         ...     ...        ...             ...             ...       ...  \n",
              "7271   8.741706  141805   4.705931        0.002430        0.004513  0.000516  \n",
              "6763   7.061469  176241   5.848722        0.002181        0.002633  0.000373  \n",
              "4387   5.848722  212785   7.061469        0.002514        0.002082  0.000356  \n",
              "2596  15.600574  376367  12.490090        0.001391        0.001738  0.000111  \n",
              "670   12.490090  470096  15.600574        0.001387        0.001110  0.000089  \n",
              "\n",
              "[48751 rows x 11 columns]"
            ],
            "text/html": [
              "\n",
              "  <div id=\"df-468e66b1-4504-4438-8c8d-8664f6bb48fa\">\n",
              "    <div class=\"colab-df-container\">\n",
              "      <div>\n",
              "<style scoped>\n",
              "    .dataframe tbody tr th:only-of-type {\n",
              "        vertical-align: middle;\n",
              "    }\n",
              "\n",
              "    .dataframe tbody tr th {\n",
              "        vertical-align: top;\n",
              "    }\n",
              "\n",
              "    .dataframe thead th {\n",
              "        text-align: right;\n",
              "    }\n",
              "</style>\n",
              "<table border=\"1\" class=\"dataframe\">\n",
              "  <thead>\n",
              "    <tr style=\"text-align: right;\">\n",
              "      <th></th>\n",
              "      <th>itemA</th>\n",
              "      <th>itemB</th>\n",
              "      <th>freqAB</th>\n",
              "      <th>supportAB</th>\n",
              "      <th>freqA</th>\n",
              "      <th>supportA</th>\n",
              "      <th>freqB</th>\n",
              "      <th>supportB</th>\n",
              "      <th>confidenceAtoB</th>\n",
              "      <th>confidenceBtoA</th>\n",
              "      <th>lift</th>\n",
              "    </tr>\n",
              "  </thead>\n",
              "  <tbody>\n",
              "    <tr>\n",
              "      <th>0</th>\n",
              "      <td>Organic Strawberry Chia Lowfat 2% Cottage Cheese</td>\n",
              "      <td>Organic Cottage Cheese Blueberry Acai Chia</td>\n",
              "      <td>306</td>\n",
              "      <td>0.010155</td>\n",
              "      <td>1163</td>\n",
              "      <td>0.038595</td>\n",
              "      <td>839</td>\n",
              "      <td>0.027843</td>\n",
              "      <td>0.263113</td>\n",
              "      <td>0.364720</td>\n",
              "      <td>9.449868</td>\n",
              "    </tr>\n",
              "    <tr>\n",
              "      <th>1</th>\n",
              "      <td>Grain Free Chicken Formula Cat Food</td>\n",
              "      <td>Grain Free Turkey Formula Cat Food</td>\n",
              "      <td>318</td>\n",
              "      <td>0.010553</td>\n",
              "      <td>1809</td>\n",
              "      <td>0.060033</td>\n",
              "      <td>879</td>\n",
              "      <td>0.029170</td>\n",
              "      <td>0.175788</td>\n",
              "      <td>0.361775</td>\n",
              "      <td>6.026229</td>\n",
              "    </tr>\n",
              "    <tr>\n",
              "      <th>3</th>\n",
              "      <td>Organic Fruit Yogurt Smoothie Mixed Berry</td>\n",
              "      <td>Apple Blueberry Fruit Yogurt Smoothie</td>\n",
              "      <td>349</td>\n",
              "      <td>0.011582</td>\n",
              "      <td>1518</td>\n",
              "      <td>0.050376</td>\n",
              "      <td>1249</td>\n",
              "      <td>0.041449</td>\n",
              "      <td>0.229908</td>\n",
              "      <td>0.279424</td>\n",
              "      <td>5.546732</td>\n",
              "    </tr>\n",
              "    <tr>\n",
              "      <th>9</th>\n",
              "      <td>Nonfat Strawberry With Fruit On The Bottom Gre...</td>\n",
              "      <td>0% Greek, Blueberry on the Bottom Yogurt</td>\n",
              "      <td>409</td>\n",
              "      <td>0.013573</td>\n",
              "      <td>1666</td>\n",
              "      <td>0.055288</td>\n",
              "      <td>1391</td>\n",
              "      <td>0.046162</td>\n",
              "      <td>0.245498</td>\n",
              "      <td>0.294033</td>\n",
              "      <td>5.318230</td>\n",
              "    </tr>\n",
              "    <tr>\n",
              "      <th>10</th>\n",
              "      <td>Organic Grapefruit Ginger Sparkling Yerba Mate</td>\n",
              "      <td>Cranberry Pomegranate Sparkling Yerba Mate</td>\n",
              "      <td>351</td>\n",
              "      <td>0.011648</td>\n",
              "      <td>1731</td>\n",
              "      <td>0.057445</td>\n",
              "      <td>1149</td>\n",
              "      <td>0.038131</td>\n",
              "      <td>0.202773</td>\n",
              "      <td>0.305483</td>\n",
              "      <td>5.317849</td>\n",
              "    </tr>\n",
              "    <tr>\n",
              "      <th>...</th>\n",
              "      <td>...</td>\n",
              "      <td>...</td>\n",
              "      <td>...</td>\n",
              "      <td>...</td>\n",
              "      <td>...</td>\n",
              "      <td>...</td>\n",
              "      <td>...</td>\n",
              "      <td>...</td>\n",
              "      <td>...</td>\n",
              "      <td>...</td>\n",
              "      <td>...</td>\n",
              "    </tr>\n",
              "    <tr>\n",
              "      <th>7271</th>\n",
              "      <td>Organic Strawberries</td>\n",
              "      <td>Strawberries</td>\n",
              "      <td>640</td>\n",
              "      <td>0.021239</td>\n",
              "      <td>263416</td>\n",
              "      <td>8.741706</td>\n",
              "      <td>141805</td>\n",
              "      <td>4.705931</td>\n",
              "      <td>0.002430</td>\n",
              "      <td>0.004513</td>\n",
              "      <td>0.000516</td>\n",
              "    </tr>\n",
              "    <tr>\n",
              "      <th>6763</th>\n",
              "      <td>Organic Hass Avocado</td>\n",
              "      <td>Organic Avocado</td>\n",
              "      <td>464</td>\n",
              "      <td>0.015398</td>\n",
              "      <td>212785</td>\n",
              "      <td>7.061469</td>\n",
              "      <td>176241</td>\n",
              "      <td>5.848722</td>\n",
              "      <td>0.002181</td>\n",
              "      <td>0.002633</td>\n",
              "      <td>0.000373</td>\n",
              "    </tr>\n",
              "    <tr>\n",
              "      <th>4387</th>\n",
              "      <td>Organic Avocado</td>\n",
              "      <td>Organic Hass Avocado</td>\n",
              "      <td>443</td>\n",
              "      <td>0.014701</td>\n",
              "      <td>176241</td>\n",
              "      <td>5.848722</td>\n",
              "      <td>212785</td>\n",
              "      <td>7.061469</td>\n",
              "      <td>0.002514</td>\n",
              "      <td>0.002082</td>\n",
              "      <td>0.000356</td>\n",
              "    </tr>\n",
              "    <tr>\n",
              "      <th>2596</th>\n",
              "      <td>Banana</td>\n",
              "      <td>Bag of Organic Bananas</td>\n",
              "      <td>654</td>\n",
              "      <td>0.021704</td>\n",
              "      <td>470096</td>\n",
              "      <td>15.600574</td>\n",
              "      <td>376367</td>\n",
              "      <td>12.490090</td>\n",
              "      <td>0.001391</td>\n",
              "      <td>0.001738</td>\n",
              "      <td>0.000111</td>\n",
              "    </tr>\n",
              "    <tr>\n",
              "      <th>670</th>\n",
              "      <td>Bag of Organic Bananas</td>\n",
              "      <td>Banana</td>\n",
              "      <td>522</td>\n",
              "      <td>0.017323</td>\n",
              "      <td>376367</td>\n",
              "      <td>12.490090</td>\n",
              "      <td>470096</td>\n",
              "      <td>15.600574</td>\n",
              "      <td>0.001387</td>\n",
              "      <td>0.001110</td>\n",
              "      <td>0.000089</td>\n",
              "    </tr>\n",
              "  </tbody>\n",
              "</table>\n",
              "<p>48751 rows × 11 columns</p>\n",
              "</div>\n",
              "      <button class=\"colab-df-convert\" onclick=\"convertToInteractive('df-468e66b1-4504-4438-8c8d-8664f6bb48fa')\"\n",
              "              title=\"Convert this dataframe to an interactive table.\"\n",
              "              style=\"display:none;\">\n",
              "        \n",
              "  <svg xmlns=\"http://www.w3.org/2000/svg\" height=\"24px\"viewBox=\"0 0 24 24\"\n",
              "       width=\"24px\">\n",
              "    <path d=\"M0 0h24v24H0V0z\" fill=\"none\"/>\n",
              "    <path d=\"M18.56 5.44l.94 2.06.94-2.06 2.06-.94-2.06-.94-.94-2.06-.94 2.06-2.06.94zm-11 1L8.5 8.5l.94-2.06 2.06-.94-2.06-.94L8.5 2.5l-.94 2.06-2.06.94zm10 10l.94 2.06.94-2.06 2.06-.94-2.06-.94-.94-2.06-.94 2.06-2.06.94z\"/><path d=\"M17.41 7.96l-1.37-1.37c-.4-.4-.92-.59-1.43-.59-.52 0-1.04.2-1.43.59L10.3 9.45l-7.72 7.72c-.78.78-.78 2.05 0 2.83L4 21.41c.39.39.9.59 1.41.59.51 0 1.02-.2 1.41-.59l7.78-7.78 2.81-2.81c.8-.78.8-2.07 0-2.86zM5.41 20L4 18.59l7.72-7.72 1.47 1.35L5.41 20z\"/>\n",
              "  </svg>\n",
              "      </button>\n",
              "      \n",
              "  <style>\n",
              "    .colab-df-container {\n",
              "      display:flex;\n",
              "      flex-wrap:wrap;\n",
              "      gap: 12px;\n",
              "    }\n",
              "\n",
              "    .colab-df-convert {\n",
              "      background-color: #E8F0FE;\n",
              "      border: none;\n",
              "      border-radius: 50%;\n",
              "      cursor: pointer;\n",
              "      display: none;\n",
              "      fill: #1967D2;\n",
              "      height: 32px;\n",
              "      padding: 0 0 0 0;\n",
              "      width: 32px;\n",
              "    }\n",
              "\n",
              "    .colab-df-convert:hover {\n",
              "      background-color: #E2EBFA;\n",
              "      box-shadow: 0px 1px 2px rgba(60, 64, 67, 0.3), 0px 1px 3px 1px rgba(60, 64, 67, 0.15);\n",
              "      fill: #174EA6;\n",
              "    }\n",
              "\n",
              "    [theme=dark] .colab-df-convert {\n",
              "      background-color: #3B4455;\n",
              "      fill: #D2E3FC;\n",
              "    }\n",
              "\n",
              "    [theme=dark] .colab-df-convert:hover {\n",
              "      background-color: #434B5C;\n",
              "      box-shadow: 0px 1px 3px 1px rgba(0, 0, 0, 0.15);\n",
              "      filter: drop-shadow(0px 1px 2px rgba(0, 0, 0, 0.3));\n",
              "      fill: #FFFFFF;\n",
              "    }\n",
              "  </style>\n",
              "\n",
              "      <script>\n",
              "        const buttonEl =\n",
              "          document.querySelector('#df-468e66b1-4504-4438-8c8d-8664f6bb48fa button.colab-df-convert');\n",
              "        buttonEl.style.display =\n",
              "          google.colab.kernel.accessAllowed ? 'block' : 'none';\n",
              "\n",
              "        async function convertToInteractive(key) {\n",
              "          const element = document.querySelector('#df-468e66b1-4504-4438-8c8d-8664f6bb48fa');\n",
              "          const dataTable =\n",
              "            await google.colab.kernel.invokeFunction('convertToInteractive',\n",
              "                                                     [key], {});\n",
              "          if (!dataTable) return;\n",
              "\n",
              "          const docLinkHtml = 'Like what you see? Visit the ' +\n",
              "            '<a target=\"_blank\" href=https://colab.research.google.com/notebooks/data_table.ipynb>data table notebook</a>'\n",
              "            + ' to learn more about interactive tables.';\n",
              "          element.innerHTML = '';\n",
              "          dataTable['output_type'] = 'display_data';\n",
              "          await google.colab.output.renderOutput(dataTable, element);\n",
              "          const docLink = document.createElement('div');\n",
              "          docLink.innerHTML = docLinkHtml;\n",
              "          element.appendChild(docLink);\n",
              "        }\n",
              "      </script>\n",
              "    </div>\n",
              "  </div>\n",
              "  "
            ]
          },
          "metadata": {}
        }
      ]
    },
    {
      "cell_type": "code",
      "source": [
        "# 시각화 해보자.\n",
        "import matplotlib.pyplot as plt\n",
        "import matplotlib.colors as mcl\n",
        "from matplotlib.colors import LinearSegmentedColormap\n",
        "\n",
        "\n",
        "support = rules_final['supportAB']\n",
        "confidence = rules_final['confidenceAtoB']\n",
        "rules\n",
        "h = 347\n",
        "s = 1\n",
        "v = 1\n",
        "colors = [\n",
        "    mcl.hsv_to_rgb((h/360, 0.2, v)),\n",
        "    mcl.hsv_to_rgb((h/360, 0.55, v)),\n",
        "    mcl.hsv_to_rgb((h/360, 1, v))\n",
        "]\n",
        "cmap = LinearSegmentedColormap.from_list('my_cmap',colors,gamma=2)\n",
        " \n",
        "measures = ['lift']\n",
        " \n",
        "fig = plt.figure(figsize=(15,10))\n",
        "fig.set_facecolor('white')\n",
        "for i, measure in enumerate(measures):\n",
        "    ax = fig.add_subplot(320+i+1)\n",
        "    if measure != 'all-confidence':\n",
        "        scatter = ax.scatter(support,confidence,c=rules_final[measure],cmap=cmap)\n",
        "    else:\n",
        "        scatter = ax.scatter(support,confidence,c=rules_final['all-confidence'].map(lambda x: [v for k,v in x.items()][0]),cmap=cmap)\n",
        "    ax.set_xlabel('support')\n",
        "    ax.set_ylabel('confidence')\n",
        "    ax.set_title(measure)\n",
        "    \n",
        "    fig.colorbar(scatter,ax=ax)\n",
        "fig.subplots_adjust(wspace=0.2, hspace=0.5)\n",
        "plt.show()"
      ],
      "metadata": {
        "colab": {
          "base_uri": "https://localhost:8080/",
          "height": 214
        },
        "id": "SmJXIatQAyca",
        "outputId": "28ba92d0-d629-4b92-d14e-63a40c4c1911"
      },
      "execution_count": 14,
      "outputs": [
        {
          "output_type": "display_data",
          "data": {
            "text/plain": [
              "<Figure size 1080x720 with 2 Axes>"
            ],
            "image/png": "[encoded data removed]"
          },
          "metadata": {}
        }
      ]
    },
    {
      "cell_type": "code",
      "source": [
        "rules.to_csv('./rules.csv')\n",
        "rules_final.to_csv('./rules_final.csv')"
      ],
      "metadata": {
        "id": "U2bF0oWcGXN-"
      },
      "execution_count": 30,
      "outputs": []
    },
    {
      "cell_type": "code",
      "source": [
        "# 음 그래프가 직관적으로 뭘 의미하는지 모르겠다..? "
      ],
      "metadata": {
        "colab": {
          "base_uri": "https://localhost:8080/"
        },
        "id": "zmlyhYZNDE7A",
        "outputId": "6e0b7e49-929c-4fda-828f-620418db378a"
      },
      "execution_count": 23,
      "outputs": [
        {
          "output_type": "stream",
          "name": "stdout",
          "text": [
            "Looking in indexes: https://pypi.org/simple, https://us-python.pkg.dev/colab-wheels/public/simple/\n",
            "Collecting pycaret==1.0.0\n",
            "  Using cached pycaret-1.0.0-py3-none-any.whl (188 kB)\n",
            "Collecting awscli\n",
            "  Downloading awscli-1.27.101-py3-none-any.whl (4.0 MB)\n",
            "\u001b[2K     \u001b[90m━━━━━━━━━━━━━━━━━━━━━━━━━━━━━━━━━━━━━━━━\u001b[0m \u001b[32m4.0/4.0 MB\u001b[0m \u001b[31m19.0 MB/s\u001b[0m eta \u001b[36m0:00:00\u001b[0m\n",
            "\u001b[?25hRequirement already satisfied: seaborn in /usr/local/lib/python3.9/dist-packages (from pycaret==1.0.0) (0.12.2)\n",
            "Requirement already satisfied: pyod in /usr/local/lib/python3.9/dist-packages (from pycaret==1.0.0) (1.0.9)\n",
            "Requirement already satisfied: textblob in /usr/local/lib/python3.9/dist-packages (from pycaret==1.0.0) (0.17.1)\n",
            "Collecting cufflinks==0.17.0\n",
            "  Downloading cufflinks-0.17.0.tar.gz (81 kB)\n",
            "\u001b[2K     \u001b[90m━━━━━━━━━━━━━━━━━━━━━━━━━━━━━━━━━━━━━━━━\u001b[0m \u001b[32m81.6/81.6 KB\u001b[0m \u001b[31m6.8 MB/s\u001b[0m eta \u001b[36m0:00:00\u001b[0m\n",
            "\u001b[?25h  Preparing metadata (setup.py) ... \u001b[?25l\u001b[?25hdone\n",
            "Collecting yellowbrick==1.0.1\n",
            "  Downloading yellowbrick-1.0.1-py3-none-any.whl (378 kB)\n",
            "\u001b[2K     \u001b[90m━━━━━━━━━━━━━━━━━━━━━━━━━━━━━━━━━━━━━━\u001b[0m \u001b[32m379.0/379.0 KB\u001b[0m \u001b[31m13.2 MB/s\u001b[0m eta \u001b[36m0:00:00\u001b[0m\n",
            "\u001b[?25h\u001b[31mERROR: Could not find a version that satisfies the requirement catboost==0.20.2 (from pycaret) (from versions: 0.24.4, 0.25, 0.25.1, 0.26, 0.26.1, 1.0.0, 1.0.1, 1.0.2, 1.0.3, 1.0.4, 1.0.5, 1.0.6, 1.1, 1.1.1)\u001b[0m\u001b[31m\n",
            "\u001b[0m\u001b[31mERROR: No matching distribution found for catboost==0.20.2\u001b[0m\u001b[31m\n",
            "\u001b[0m"
          ]
        }
      ]
    },
    {
      "cell_type": "code",
      "source": [
        "import networkx as nx\n",
        "\n",
        "G = nx.Graph()\n",
        "G.add_edges_from(rules_final['itemA'])"
      ],
      "metadata": {
        "colab": {
          "base_uri": "https://localhost:8080/",
          "height": 340
        },
        "id": "fBgnpR_DDE9T",
        "outputId": "e154e5a7-7ea1-4d5d-b000-e4db1154b75b"
      },
      "execution_count": 39,
      "outputs": [
        {
          "output_type": "error",
          "ename": "NetworkXError",
          "evalue": "ignored",
          "traceback": [
            "\u001b[0;31m---------------------------------------------------------------------------\u001b[0m",
            "\u001b[0;31mNetworkXError\u001b[0m                             Traceback (most recent call last)",
            "\u001b[0;32m<ipython-input-39-c4a1eff0aef9>\u001b[0m in \u001b[0;36m<module>\u001b[0;34m\u001b[0m\n\u001b[1;32m      2\u001b[0m \u001b[0;34m\u001b[0m\u001b[0m\n\u001b[1;32m      3\u001b[0m \u001b[0mG\u001b[0m \u001b[0;34m=\u001b[0m \u001b[0mnx\u001b[0m\u001b[0;34m.\u001b[0m\u001b[0mGraph\u001b[0m\u001b[0;34m(\u001b[0m\u001b[0;34m)\u001b[0m\u001b[0;34m\u001b[0m\u001b[0;34m\u001b[0m\u001b[0m\n\u001b[0;32m----> 4\u001b[0;31m \u001b[0mG\u001b[0m\u001b[0;34m.\u001b[0m\u001b[0madd_edges_from\u001b[0m\u001b[0;34m(\u001b[0m\u001b[0mrules_final\u001b[0m\u001b[0;34m[\u001b[0m\u001b[0;34m'itemA'\u001b[0m\u001b[0;34m]\u001b[0m\u001b[0;34m)\u001b[0m\u001b[0;34m\u001b[0m\u001b[0;34m\u001b[0m\u001b[0m\n\u001b[0m",
            "\u001b[0;32m/usr/local/lib/python3.9/dist-packages/networkx/classes/graph.py\u001b[0m in \u001b[0;36madd_edges_from\u001b[0;34m(self, ebunch_to_add, **attr)\u001b[0m\n\u001b[1;32m   1022\u001b[0m                 \u001b[0mdd\u001b[0m \u001b[0;34m=\u001b[0m \u001b[0;34m{\u001b[0m\u001b[0;34m}\u001b[0m  \u001b[0;31m# doesn't need edge_attr_dict_factory\u001b[0m\u001b[0;34m\u001b[0m\u001b[0;34m\u001b[0m\u001b[0m\n\u001b[1;32m   1023\u001b[0m             \u001b[0;32melse\u001b[0m\u001b[0;34m:\u001b[0m\u001b[0;34m\u001b[0m\u001b[0;34m\u001b[0m\u001b[0m\n\u001b[0;32m-> 1024\u001b[0;31m                 \u001b[0;32mraise\u001b[0m \u001b[0mNetworkXError\u001b[0m\u001b[0;34m(\u001b[0m\u001b[0;34mf\"Edge tuple {e} must be a 2-tuple or 3-tuple.\"\u001b[0m\u001b[0;34m)\u001b[0m\u001b[0;34m\u001b[0m\u001b[0;34m\u001b[0m\u001b[0m\n\u001b[0m\u001b[1;32m   1025\u001b[0m             \u001b[0;32mif\u001b[0m \u001b[0mu\u001b[0m \u001b[0;32mnot\u001b[0m \u001b[0;32min\u001b[0m \u001b[0mself\u001b[0m\u001b[0;34m.\u001b[0m\u001b[0m_node\u001b[0m\u001b[0;34m:\u001b[0m\u001b[0;34m\u001b[0m\u001b[0;34m\u001b[0m\u001b[0m\n\u001b[1;32m   1026\u001b[0m                 \u001b[0;32mif\u001b[0m \u001b[0mu\u001b[0m \u001b[0;32mis\u001b[0m \u001b[0;32mNone\u001b[0m\u001b[0;34m:\u001b[0m\u001b[0;34m\u001b[0m\u001b[0;34m\u001b[0m\u001b[0m\n",
            "\u001b[0;31mNetworkXError\u001b[0m: Edge tuple Organic Strawberry Chia Lowfat 2% Cottage Cheese must be a 2-tuple or 3-tuple."
          ]
        }
      ]
    },
    {
      "cell_type": "code",
      "source": [
        "s = setup(data = rules_final, transaction_id = 'itemA', item_id = 'itemB')\n",
        "\n",
        "# train model\n",
        "a_rules = clustering.create_model(metric='confidence', threshold=0.5, min_support=0.01)\n",
        "\n",
        "# 2d plot\n",
        "clustering.plot_model(a_rules, plot = '2d')\n"
      ],
      "metadata": {
        "colab": {
          "base_uri": "https://localhost:8080/",
          "height": 236
        },
        "id": "tuIUlsTlDFBa",
        "outputId": "0d796215-7347-49a4-c343-7a3238ab56df"
      },
      "execution_count": 34,
      "outputs": [
        {
          "output_type": "error",
          "ename": "NameError",
          "evalue": "ignored",
          "traceback": [
            "\u001b[0;31m---------------------------------------------------------------------------\u001b[0m",
            "\u001b[0;31mNameError\u001b[0m                                 Traceback (most recent call last)",
            "\u001b[0;32m<ipython-input-34-297f48471603>\u001b[0m in \u001b[0;36m<module>\u001b[0;34m\u001b[0m\n\u001b[1;32m      1\u001b[0m \u001b[0morder_p_p\u001b[0m \u001b[0;34m=\u001b[0m \u001b[0mpd\u001b[0m\u001b[0;34m.\u001b[0m\u001b[0mread_csv\u001b[0m\u001b[0;34m(\u001b[0m\u001b[0;34m'./data/order_products__prior.csv'\u001b[0m\u001b[0;34m)\u001b[0m\u001b[0;34m\u001b[0m\u001b[0;34m\u001b[0m\u001b[0m\n\u001b[1;32m      2\u001b[0m \u001b[0;34m\u001b[0m\u001b[0m\n\u001b[0;32m----> 3\u001b[0;31m \u001b[0ms\u001b[0m \u001b[0;34m=\u001b[0m \u001b[0mclustering\u001b[0m\u001b[0;34m.\u001b[0m\u001b[0msetup\u001b[0m\u001b[0;34m(\u001b[0m\u001b[0mdata\u001b[0m \u001b[0;34m=\u001b[0m \u001b[0morder_p_p\u001b[0m\u001b[0;34m,\u001b[0m \u001b[0mtransaction_id\u001b[0m \u001b[0;34m=\u001b[0m \u001b[0;34m'InvoiceNo'\u001b[0m\u001b[0;34m,\u001b[0m \u001b[0mitem_id\u001b[0m \u001b[0;34m=\u001b[0m \u001b[0;34m'Description'\u001b[0m\u001b[0;34m)\u001b[0m\u001b[0;34m\u001b[0m\u001b[0;34m\u001b[0m\u001b[0m\n\u001b[0m\u001b[1;32m      4\u001b[0m \u001b[0;34m\u001b[0m\u001b[0m\n\u001b[1;32m      5\u001b[0m \u001b[0;31m# train model\u001b[0m\u001b[0;34m\u001b[0m\u001b[0;34m\u001b[0m\u001b[0m\n",
            "\u001b[0;31mNameError\u001b[0m: name 'clustering' is not defined"
          ]
        }
      ]
    },
    {
      "cell_type": "code",
      "source": [],
      "metadata": {
        "id": "bl1_89zdDFDl"
      },
      "execution_count": null,
      "outputs": []
    },
    {
      "cell_type": "code",
      "source": [],
      "metadata": {
        "id": "f6cPgZMEDFF_"
      },
      "execution_count": null,
      "outputs": []
    },
    {
      "cell_type": "code",
      "source": [],
      "metadata": {
        "id": "HUexL1Q1DFIy"
      },
      "execution_count": null,
      "outputs": []
    },
    {
      "cell_type": "code",
      "source": [],
      "metadata": {
        "id": "VNKL_o5_C8JZ"
      },
      "execution_count": null,
      "outputs": []
    },
    {
      "cell_type": "code",
      "source": [],
      "metadata": {
        "id": "TZvJXiyqDDJG"
      },
      "execution_count": null,
      "outputs": []
    }
  ]
}