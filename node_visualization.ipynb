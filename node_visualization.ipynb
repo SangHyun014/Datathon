{
  "nbformat": 4,
  "nbformat_minor": 0,
  "metadata": {
    "colab": {
      "provenance": []
    },
    "kernelspec": {
      "name": "python3",
      "display_name": "Python 3"
    },
    "language_info": {
      "name": "python"
    }
  },
  "cells": [
    {
      "cell_type": "code",
      "execution_count": null,
      "metadata": {
        "id": "AQb8bBMlZQnb"
      },
      "outputs": [],
      "source": [
        "import networkx as nx\n",
        "\n",
        "def draw_graph(rules, rules_to_show=10):\n",
        "\n",
        "  rule_sort = rules.sort_values('lift', ascending=False)\n",
        "  node_name_a = rule_sort['antecedents'].values.tolist()[:rules_to_show]\n",
        "\n",
        "  G = nx.DiGraph()\n",
        "  color_map=[] \n",
        "\n",
        "  for i in node_name_a:\n",
        "    start, end = i.index('{'), i.index('}')\n",
        "    target = i[start+1:end].split(',')\n",
        "    node_name = []\n",
        "    for idx, t in enumerate(target):\n",
        "      a = t.strip().replace('\\'', '')\n",
        "      node_name.append(a)\n",
        "      if idx == 0:\n",
        "        node = a\n",
        "        G.add_nodes_from([a])\n",
        "      else: \n",
        "        G.add_edge(node, a, color='orange' , weight = 2)\n",
        "\n",
        "  color_map = ['lightblue'] * len(G)     \n",
        "  edges = G.edges()\n",
        "  colors = [G[u][v]['color'] for u,v in edges]\n",
        "  weights = [G[u][v]['weight'] for u,v in edges]\n",
        "\n",
        "  pos = nx.spring_layout(G, k=len(node_name_a), scale=1)\n",
        "  nx.draw(G, pos,  node_color = color_map, edge_color=colors, width=weights, font_size=16, \n",
        "          with_labels=False)            \n",
        "  nx.draw_networkx_labels(G, pos)"
      ]
    },
    {
      "cell_type": "code",
      "source": [
        "draw_graph(g3, rules_to_show=10)   # g3 자리는 group0, group1... 입니다."
      ],
      "metadata": {
        "id": "wWbPEkXvZUbE"
      },
      "execution_count": null,
      "outputs": []
    }
  ]
}